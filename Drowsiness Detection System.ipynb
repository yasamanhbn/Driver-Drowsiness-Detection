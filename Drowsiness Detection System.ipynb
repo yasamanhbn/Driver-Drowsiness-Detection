{
 "cells": [
  {
   "cell_type": "code",
   "execution_count": 1,
   "id": "6823a3d4",
   "metadata": {},
   "outputs": [],
   "source": [
    "import cv2\n",
    "import os\n",
    "from tensorflow import keras\n",
    "from keras.models import load_model\n",
    "import numpy as np\n",
    "#from pygame import mixer\n",
    "import time"
   ]
  },
  {
   "cell_type": "code",
   "execution_count": 2,
   "id": "18ff53fc",
   "metadata": {},
   "outputs": [],
   "source": [
    "new_model = load_model('./models/cnnBasic.h5')"
   ]
  },
  {
   "cell_type": "code",
   "execution_count": 3,
   "id": "4234335a",
   "metadata": {},
   "outputs": [],
   "source": [
    "img_size = 224\n",
    "img_array = cv2.imread('./dataset/train/open//s0001_01868_0_0_1_0_0_01.png',cv2.IMREAD_GRAYSCALE)\n",
    "backtorgb = cv2.cvtColor(img_array, cv2.COLOR_GRAY2BGR)\n",
    "new_array = cv2.resize(backtorgb, (img_size, img_size))"
   ]
  },
  {
   "cell_type": "code",
   "execution_count": 4,
   "id": "f8742ffa",
   "metadata": {},
   "outputs": [
    {
     "data": {
      "text/plain": [
       "<matplotlib.image.AxesImage at 0x27293b36fd0>"
      ]
     },
     "execution_count": 4,
     "metadata": {},
     "output_type": "execute_result"
    },
    {
     "data": {
      "image/png": "[encoded data removed]",
      "text/plain": [
       "<Figure size 432x288 with 1 Axes>"
      ]
     },
     "metadata": {
      "needs_background": "light"
     },
     "output_type": "display_data"
    }
   ],
   "source": [
    "import matplotlib.pyplot as plt\n",
    "X_input = np.array(new_array).reshape(1, img_size, img_size, 3)\n",
    "plt.imshow(new_array)"
   ]
  },
  {
   "cell_type": "code",
   "execution_count": 5,
   "id": "097e6f3e",
   "metadata": {},
   "outputs": [
    {
     "data": {
      "text/plain": [
       "array([[0.96162736]], dtype=float32)"
      ]
     },
     "execution_count": 5,
     "metadata": {},
     "output_type": "execute_result"
    }
   ],
   "source": [
    "X_input = X_input/255.0\n",
    "prediction = new_model.predict(X_input)\n",
    "prediction"
   ]
  },
  {
   "cell_type": "code",
   "execution_count": 25,
   "id": "9eb5658a",
   "metadata": {},
   "outputs": [
    {
     "name": "stdout",
     "output_type": "stream",
     "text": [
      "Open\n",
      "Open\n",
      "Open\n",
      "Open\n",
      "Open\n",
      "Open\n",
      "Open\n",
      "Open\n",
      "Open\n",
      "Open\n",
      "Open\n",
      "Open\n",
      "Open\n",
      "Open\n",
      "Closed\n",
      "Closed\n",
      "Closed\n",
      "Closed\n",
      "Closed\n",
      "Closed\n",
      "Closed\n",
      "Closed\n"
     ]
    }
   ],
   "source": [
    "import cv2\n",
    "\n",
    "faceCascade = cv2.CascadeClassifier(os.path.dirname(cv2.__file__) + \"/data/haarcascade_frontalface_default.xml\")\n",
    "eye_cascade = cv2.CascadeClassifier(os.path.dirname(cv2.__file__) + \"/data/haarcascade_eye.xml\")\n",
    "\n",
    "cap = cv2.VideoCapture(0)\n",
    "count=0\n",
    "while True:\n",
    "    ret, frame = cap.read()\n",
    "    height,width = frame.shape[:2] \n",
    "    gray = cv2.cvtColor(frame, cv2.COLOR_BGR2GRAY)\n",
    "    faces = faceCascade.detectMultiScale(gray, minNeighbors=5,scaleFactor=1.1)\n",
    "    \n",
    "    cv2.rectangle(frame, (0,height-50) , (200,height) , (0,0,0) , thickness=cv2.FILLED )\n",
    "    for (x,y,w,h) in faces:\n",
    "        cv2.rectangle(frame, (x,y), (x+w,y+h), (255,0,0), 2) #blue\n",
    "        roi_gray = gray[y:y+h, x:x+w]\n",
    "        roi_color = frame[y:y+h, x:x+w]\n",
    "        eyes = eye_cascade.detectMultiScale(roi_gray)\n",
    "        for (ex,ey,ew,eh) in eyes:\n",
    "            cv2.rectangle(roi_color,(ex, ey),(ex+ew, ey+eh),(0,255,0), 2) #green\n",
    "            eye = roi_color[ey:ey+eh, ex:ex+ew]\n",
    "            #count=count+1\n",
    "            #eye = cv2.cvtColor(eye,cv2.COLOR_BGR2GRAY)\n",
    "            eye = cv2.resize(eye, (img_size, img_size))\n",
    "            eye = np.expand_dims(eye, axis=0)\n",
    "            eye= eye / 255\n",
    "            prediction = new_model.predict(eye)\n",
    "            if(prediction[0] > 0.5):\n",
    "                print('Open') \n",
    "            else:\n",
    "                print('Closed')\n",
    "            break\n",
    "                \n",
    "    cv2.imshow('h', frame)\n",
    "    if cv2.waitKey(2) & 0xFF == ord('q'):\n",
    "        break\n",
    "cap.release()\n",
    "cv2.destroyAllWindows()\n",
    "    \n",
    "    "
   ]
  },
  {
   "cell_type": "code",
   "execution_count": null,
   "id": "e994a55f",
   "metadata": {},
   "outputs": [],
   "source": []
  }
 ],
 "metadata": {
  "kernelspec": {
   "display_name": "Python 3 (ipykernel)",
   "language": "python",
   "name": "python3"
  },
  "language_info": {
   "codemirror_mode": {
    "name": "ipython",
    "version": 3
   },
   "file_extension": ".py",
   "mimetype": "text/x-python",
   "name": "python",
   "nbconvert_exporter": "python",
   "pygments_lexer": "ipython3",
   "version": "3.8.6"
  }
 },
 "nbformat": 4,
 "nbformat_minor": 5
}
