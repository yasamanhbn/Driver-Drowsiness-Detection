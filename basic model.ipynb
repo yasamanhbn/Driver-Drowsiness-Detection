{
 "cells": [
  {
   "cell_type": "code",
   "execution_count": 1,
   "id": "010d53dc",
   "metadata": {},
   "outputs": [],
   "source": [
    "import cv2\n",
    "import os\n",
    "import numpy as np\n",
    "from tensorflow import keras\n",
    "from keras import layers\n",
    "from keras import models\n",
    "from tensorflow.keras import optimizers\n",
    "from keras.preprocessing.image import ImageDataGenerator\n",
    "from keras.utils.np_utils import to_categorical\n",
    "import random,shutil\n",
    "from keras.models import Sequential\n",
    "from keras.layers import Dropout,Conv2D,Flatten,Dense, MaxPooling2D, BatchNormalization"
   ]
  },
  {
   "cell_type": "markdown",
   "id": "e9808724",
   "metadata": {},
   "source": [
    "# Reading all images from dataset and labeling them"
   ]
  },
  {
   "cell_type": "code",
   "execution_count": 2,
   "id": "d357860b",
   "metadata": {},
   "outputs": [],
   "source": [
    "Datadirectory = '../dataset/train'\n",
    "Classes = ['closed', 'open']\n",
    "training_data = []"
   ]
  },
  {
   "cell_type": "code",
   "execution_count": 3,
   "id": "858c89bd",
   "metadata": {},
   "outputs": [],
   "source": [
    "def create_training_data():\n",
    "    for category in Classes:\n",
    "        path = os.path.join(Datadirectory, category)\n",
    "        class_num = Classes.index(category)\n",
    "        for img in os.listdir(path):\n",
    "            try :\n",
    "                img_array = cv2.imread(os.path.join(path,img), cv2.IMREAD_GRAYSCALE)\n",
    "                blackToRGB = cv2.cvtColor(img_array,cv2.COLOR_GRAY2RGB)\n",
    "                #new_array = cv2.resize(backtorgb, (img_size,img_size))\n",
    "                training_data.append([blackToRGB, class_num])\n",
    "            except Exception as e:\n",
    "                print(e)"
   ]
  },
  {
   "cell_type": "code",
   "execution_count": 4,
   "id": "a2b9de63",
   "metadata": {},
   "outputs": [],
   "source": [
    "create_training_data()"
   ]
  },
  {
   "cell_type": "code",
   "execution_count": 5,
   "id": "46580949",
   "metadata": {},
   "outputs": [
    {
     "name": "stdout",
     "output_type": "stream",
     "text": [
      "3242\n"
     ]
    }
   ],
   "source": [
    "print(len(training_data))"
   ]
  },
  {
   "cell_type": "markdown",
   "id": "b7c8367e",
   "metadata": {},
   "source": [
    "# Image processing"
   ]
  },
  {
   "cell_type": "code",
   "execution_count": 17,
   "id": "83a86cd9",
   "metadata": {},
   "outputs": [],
   "source": [
    "train_datagen = ImageDataGenerator(rescale=1./255, validation_split=0.2)\n",
    "#test_datagen = ImageDataGenerator(rescale=1./255)"
   ]
  },
  {
   "cell_type": "code",
   "execution_count": 18,
   "id": "42e23628",
   "metadata": {},
   "outputs": [
    {
     "name": "stdout",
     "output_type": "stream",
     "text": [
      "Found 2594 images belonging to 2 classes.\n",
      "Found 648 images belonging to 2 classes.\n"
     ]
    }
   ],
   "source": [
    "train_dir = '../dataset/train'\n",
    "img_size = 224\n",
    "batch_size = 20\n",
    "train_generator = train_datagen.flow_from_directory(\n",
    "        # This is the target directory\n",
    "        train_dir,\n",
    "        # All images will be resized to 150x150\n",
    "        target_size=(img_size, img_size),\n",
    "        batch_size=batch_size,\n",
    "        # Since we use binary_crossentropy loss, we need binary labels\n",
    "        class_mode='binary',\n",
    "        subset='training')\n",
    "\n",
    "validation_generator = train_datagen.flow_from_directory(\n",
    "    train_dir, # same directory as training data\n",
    "    target_size=(img_size, img_size),\n",
    "    batch_size=batch_size,\n",
    "    class_mode='binary',\n",
    "    subset='validation') # set as validation data"
   ]
  },
  {
   "cell_type": "code",
   "execution_count": 19,
   "id": "e3e5afae",
   "metadata": {},
   "outputs": [
    {
     "name": "stdout",
     "output_type": "stream",
     "text": [
      "data batch shape: (20, 224, 224, 3)\n",
      "labels batch shape: (20,)\n"
     ]
    }
   ],
   "source": [
    "for data_batch, labels_batch in train_generator:\n",
    "    print('data batch shape:', data_batch.shape)\n",
    "    print('labels batch shape:', labels_batch.shape)\n",
    "    break"
   ]
  },
  {
   "cell_type": "markdown",
   "id": "80b2297b",
   "metadata": {},
   "source": [
    "# model"
   ]
  },
  {
   "cell_type": "code",
   "execution_count": 20,
   "id": "13785b8e",
   "metadata": {},
   "outputs": [],
   "source": [
    "model = models.Sequential()\n",
    "model.add(layers.Conv2D(32, (3, 3), activation='relu',\n",
    "                        input_shape=(img_size, img_size, 3)))\n",
    "model.add(layers.MaxPooling2D((2, 2)))\n",
    "model.add(layers.Conv2D(64, (3, 3), activation='relu'))\n",
    "model.add(layers.MaxPooling2D((2, 2)))\n",
    "model.add(layers.Conv2D(128, (3, 3), activation='relu'))\n",
    "model.add(layers.MaxPooling2D((2, 2)))\n",
    "model.add(layers.Conv2D(128, (3, 3), activation='relu'))\n",
    "model.add(layers.MaxPooling2D((2, 2)))\n",
    "model.add(layers.Flatten())\n",
    "model.add(layers.Dropout(0.5))\n",
    "model.add(layers.Dense(512, activation='relu'))\n",
    "model.add(layers.Dense(1, activation='sigmoid'))"
   ]
  },
  {
   "cell_type": "markdown",
   "id": "1a6a943a",
   "metadata": {},
   "source": [
    "## compile model"
   ]
  },
  {
   "cell_type": "code",
   "execution_count": 21,
   "id": "ef267364",
   "metadata": {},
   "outputs": [],
   "source": [
    "model.compile(loss='binary_crossentropy',\n",
    "              optimizer=optimizers.RMSprop(learning_rate=1e-4),\n",
    "              metrics=['acc'])\n",
    "\n",
    "#     optimizer = Adam(0.0001)\n",
    "#     model.compile(optimizer=optimizer, loss='categorical_crossentropy', metrics=['accuracy'])\n",
    "\n",
    "# model.compile(optimizer='adam',loss='categorical_crossentropy',metrics=['accuracy'])\n",
    "\n",
    "# new_model.compile(loss=keras.losses.BinaryCrossentropy(), optimizer = \"adam\", metrics = [\"accuracy\"])"
   ]
  },
  {
   "cell_type": "code",
   "execution_count": 22,
   "id": "ab4873fd",
   "metadata": {
    "scrolled": true
   },
   "outputs": [
    {
     "name": "stdout",
     "output_type": "stream",
     "text": [
      "Epoch 1/15\n",
      "30/30 [==============================] - 39s 1s/step - loss: 0.6769 - acc: 0.5917 - val_loss: 0.6986 - val_acc: 0.4567\n",
      "Epoch 2/15\n",
      "30/30 [==============================] - 37s 1s/step - loss: 0.5971 - acc: 0.7017 - val_loss: 0.5956 - val_acc: 0.9033\n",
      "Epoch 3/15\n",
      "30/30 [==============================] - 37s 1s/step - loss: 0.5181 - acc: 0.7683 - val_loss: 0.5458 - val_acc: 0.8867\n",
      "Epoch 4/15\n",
      "30/30 [==============================] - 42s 1s/step - loss: 0.4247 - acc: 0.8233 - val_loss: 0.4473 - val_acc: 0.8800\n",
      "Epoch 5/15\n",
      "30/30 [==============================] - 35s 1s/step - loss: 0.3862 - acc: 0.8583 - val_loss: 0.3607 - val_acc: 0.9333\n",
      "Epoch 6/15\n",
      "30/30 [==============================] - 35s 1s/step - loss: 0.3393 - acc: 0.8817 - val_loss: 0.3442 - val_acc: 0.9267\n",
      "Epoch 7/15\n",
      "30/30 [==============================] - 46s 2s/step - loss: 0.2811 - acc: 0.8900 - val_loss: 0.2371 - val_acc: 0.9500\n",
      "Epoch 8/15\n",
      "30/30 [==============================] - 36s 1s/step - loss: 0.2239 - acc: 0.9250 - val_loss: 0.2358 - val_acc: 0.9400\n",
      "Epoch 9/15\n",
      "30/30 [==============================] - 35s 1s/step - loss: 0.2270 - acc: 0.9250 - val_loss: 0.2386 - val_acc: 0.9233\n",
      "Epoch 10/15\n",
      "30/30 [==============================] - 35s 1s/step - loss: 0.2307 - acc: 0.9167 - val_loss: 0.1542 - val_acc: 0.9533\n",
      "Epoch 11/15\n",
      "30/30 [==============================] - 44s 1s/step - loss: 0.1878 - acc: 0.9317 - val_loss: 0.1956 - val_acc: 0.9333\n",
      "Epoch 12/15\n",
      "30/30 [==============================] - 35s 1s/step - loss: 0.1779 - acc: 0.9233 - val_loss: 0.1294 - val_acc: 0.9533\n",
      "Epoch 13/15\n",
      "30/30 [==============================] - 35s 1s/step - loss: 0.1681 - acc: 0.9333 - val_loss: 0.1650 - val_acc: 0.9567\n",
      "Epoch 14/15\n",
      "30/30 [==============================] - 35s 1s/step - loss: 0.1324 - acc: 0.9517 - val_loss: 0.0901 - val_acc: 0.9700\n",
      "Epoch 15/15\n",
      "30/30 [==============================] - 36s 1s/step - loss: 0.1415 - acc: 0.9450 - val_loss: 0.2006 - val_acc: 0.9400\n"
     ]
    }
   ],
   "source": [
    "    #train_generator.samples // batch_size\n",
    "      #validation_steps = validation_generator.samples // batch_size,\n",
    "\n",
    "history = model.fit(\n",
    "    train_generator,\n",
    "    steps_per_epoch=30,\n",
    "    epochs=15, #30\n",
    "    validation_data = validation_generator,\n",
    "    validation_steps = 15) "
   ]
  },
  {
   "cell_type": "code",
   "execution_count": 23,
   "id": "0eee1be6",
   "metadata": {},
   "outputs": [],
   "source": [
    "model.save('models/cnnBasic.h5', overwrite=True)"
   ]
  },
  {
   "cell_type": "markdown",
   "id": "19619638",
   "metadata": {},
   "source": [
    "## plot acc"
   ]
  },
  {
   "cell_type": "code",
   "execution_count": 24,
   "id": "9fe8b8d6",
   "metadata": {},
   "outputs": [
    {
     "data": {
      "image/png": "[encoded data removed]",
      "text/plain": [
       "<Figure size 432x288 with 1 Axes>"
      ]
     },
     "metadata": {
      "needs_background": "light"
     },
     "output_type": "display_data"
    },
    {
     "data": {
      "image/png": "[encoded data removed]",
      "text/plain": [
       "<Figure size 432x288 with 1 Axes>"
      ]
     },
     "metadata": {
      "needs_background": "light"
     },
     "output_type": "display_data"
    }
   ],
   "source": [
    "import matplotlib.pyplot as plt\n",
    "%matplotlib inline\n",
    "acc = history.history['acc']\n",
    "val_acc = history.history['val_acc']\n",
    "loss = history.history['loss']\n",
    "val_loss = history.history['val_loss']\n",
    "\n",
    "epochs = range(len(acc))\n",
    "\n",
    "plt.plot(epochs, acc, label='Training acc')\n",
    "plt.plot(epochs, val_acc, label='Validation acc')\n",
    "plt.title('Training and validation accuracy')\n",
    "plt.legend()\n",
    "\n",
    "plt.figure()\n",
    "\n",
    "plt.plot(epochs, loss, label='Training loss')\n",
    "plt.plot(epochs, val_loss, label='Validation loss')\n",
    "plt.title('Training and validation loss')\n",
    "plt.legend()\n",
    "\n",
    "plt.show()"
   ]
  },
  {
   "cell_type": "markdown",
   "id": "7f2282ed",
   "metadata": {},
   "source": [
    "# make confusion matrix"
   ]
  },
  {
   "cell_type": "code",
   "execution_count": null,
   "id": "dc7c3c54",
   "metadata": {},
   "outputs": [],
   "source": [
    "import itertools\n",
    "from sklearn.metrics import confusion_matrix\n",
    "\n",
    "def make_confusion_matrix(y_true, y_pred, classes=None, figsize=(10, 10), text_size=15):   \n",
    "  # Create the confustion matrix\n",
    "    cm = confusion_matrix(y_true, y_pred)\n",
    "    cm_norm = cm.astype(\"float\") / cm.sum(axis=1)[:, np.newaxis] # normalize it\n",
    "    n_classes = cm.shape[0] # find the number of classes we're dealing with\n",
    "\n",
    "    # Plot the figure and make it pretty\n",
    "    fig, ax = plt.subplots(figsize=figsize)\n",
    "    cax = ax.matshow(cm, cmap=plt.cm.Blues)\n",
    "    fig.colorbar(cax)\n",
    "\n",
    "    if classes:\n",
    "        labels = classes\n",
    "    else:\n",
    "        labels = np.arange(cm.shape[0])\n",
    "  \n",
    "    # Label the axes\n",
    "    ax.set(title=\"Confusion Matrix\",\n",
    "         xlabel=\"Predicted label\",\n",
    "         ylabel=\"True label\",\n",
    "         xticks=np.arange(n_classes), # create enough axis slots for each class\n",
    "         yticks=np.arange(n_classes), \n",
    "         xticklabels=labels, # axes will labeled with class names (if they exist) or ints\n",
    "         yticklabels=labels)\n",
    "  \n",
    "    # Make x-axis labels appear on bottom\n",
    "    ax.xaxis.set_label_position(\"bottom\")\n",
    "    ax.xaxis.tick_bottom()\n",
    "\n",
    "    # Set the threshold for different colors\n",
    "    threshold = (cm.max() + cm.min()) / 2.\n",
    "\n",
    "    # Plot the text on each cell\n",
    "    for i, j in itertools.product(range(cm.shape[0]), range(cm.shape[1])):\n",
    "        plt.text(j, i, f\"{cm[i, j]} ({cm_norm[i, j]*100:.1f}%)\",\n",
    "            horizontalalignment=\"center\",\n",
    "            color=\"white\" if cm[i, j] > threshold else \"black\",\n",
    "            size=text_size)"
   ]
  }
 ],
 "metadata": {
  "kernelspec": {
   "display_name": "Python 3 (ipykernel)",
   "language": "python",
   "name": "python3"
  },
  "language_info": {
   "codemirror_mode": {
    "name": "ipython",
    "version": 3
   },
   "file_extension": ".py",
   "mimetype": "text/x-python",
   "name": "python",
   "nbconvert_exporter": "python",
   "pygments_lexer": "ipython3",
   "version": "3.8.6"
  }
 },
 "nbformat": 4,
 "nbformat_minor": 5
}
