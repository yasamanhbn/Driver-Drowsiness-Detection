{
 "cells": [
  {
   "cell_type": "code",
   "execution_count": 1,
   "id": "010d53dc",
   "metadata": {},
   "outputs": [],
   "source": [
    "import cv2\n",
    "import os\n",
    "import numpy as np\n",
    "from tensorflow import keras\n",
    "from keras import layers\n",
    "from keras import models\n",
    "from tensorflow.keras import optimizers\n",
    "from keras.preprocessing.image import ImageDataGenerator\n",
    "from keras.utils.np_utils import to_categorical\n",
    "import random,shutil\n",
    "from keras.models import Sequential\n",
    "from keras.layers import Dropout,Conv2D,Flatten,Dense, MaxPooling2D, BatchNormalization"
   ]
  },
  {
   "cell_type": "markdown",
   "id": "e9808724",
   "metadata": {},
   "source": [
    "# Reading all images from dataset and labeling them"
   ]
  },
  {
   "cell_type": "code",
   "execution_count": 4,
   "id": "d357860b",
   "metadata": {},
   "outputs": [],
   "source": [
    "Datadirectory = '../dataset/train'\n",
    "Classes = ['closed', 'open']\n",
    "training_data = []"
   ]
  },
  {
   "cell_type": "code",
   "execution_count": 15,
   "id": "858c89bd",
   "metadata": {},
   "outputs": [],
   "source": [
    "def create_training_data():\n",
    "    for category in Classes:\n",
    "        path = os.path.join(Datadirectory, category)\n",
    "        class_num = Classes.index(category)\n",
    "        for img in os.listdir(path):\n",
    "            try :\n",
    "                img_array = cv2.imread(os.path.join(path,img), cv2.IMREAD_GRAYSCALE)\n",
    "                blackToRGB = cv2.cvtColor(img_array,cv2.COLOR_GRAY2RGB)\n",
    "                #new_array = cv2.resize(backtorgb, (img_size,img_size))\n",
    "                training_data.append([blackToRGB, class_num])\n",
    "            except Exception as e:\n",
    "                print(e)"
   ]
  },
  {
   "cell_type": "code",
   "execution_count": 16,
   "id": "a2b9de63",
   "metadata": {},
   "outputs": [],
   "source": [
    "create_training_data()"
   ]
  },
  {
   "cell_type": "code",
   "execution_count": 17,
   "id": "46580949",
   "metadata": {},
   "outputs": [
    {
     "name": "stdout",
     "output_type": "stream",
     "text": [
      "3242\n"
     ]
    }
   ],
   "source": [
    "print(len(training_data))"
   ]
  },
  {
   "cell_type": "markdown",
   "id": "b7c8367e",
   "metadata": {},
   "source": [
    "# Image processing"
   ]
  },
  {
   "cell_type": "code",
   "execution_count": 18,
   "id": "83a86cd9",
   "metadata": {},
   "outputs": [],
   "source": [
    "train_datagen = ImageDataGenerator(rescale=1./255)\n",
    "#test_datagen = ImageDataGenerator(rescale=1./255)"
   ]
  },
  {
   "cell_type": "code",
   "execution_count": 43,
   "id": "42e23628",
   "metadata": {},
   "outputs": [
    {
     "name": "stdout",
     "output_type": "stream",
     "text": [
      "Found 3242 images belonging to 2 classes.\n"
     ]
    }
   ],
   "source": [
    "train_dir = '../dataset/train'\n",
    "img_size = 224\n",
    "train_generator = train_datagen.flow_from_directory(\n",
    "        # This is the target directory\n",
    "        train_dir,\n",
    "        # All images will be resized to 150x150\n",
    "        target_size=(img_size, img_size),\n",
    "        batch_size=20,\n",
    "        # Since we use binary_crossentropy loss, we need binary labels\n",
    "        class_mode='binary')"
   ]
  },
  {
   "cell_type": "code",
   "execution_count": 44,
   "id": "e3e5afae",
   "metadata": {},
   "outputs": [
    {
     "name": "stdout",
     "output_type": "stream",
     "text": [
      "data batch shape: (20, 224, 224, 3)\n",
      "labels batch shape: (20,)\n"
     ]
    }
   ],
   "source": [
    "for data_batch, labels_batch in train_generator:\n",
    "    print('data batch shape:', data_batch.shape)\n",
    "    print('labels batch shape:', labels_batch.shape)\n",
    "    break"
   ]
  },
  {
   "cell_type": "markdown",
   "id": "80b2297b",
   "metadata": {},
   "source": [
    "# model"
   ]
  },
  {
   "cell_type": "code",
   "execution_count": 45,
   "id": "13785b8e",
   "metadata": {},
   "outputs": [],
   "source": [
    "model = models.Sequential()\n",
    "model.add(layers.Conv2D(32, (3, 3), activation='relu',\n",
    "                        input_shape=(img_size, img_size, 3)))\n",
    "model.add(layers.MaxPooling2D((2, 2)))\n",
    "model.add(layers.Conv2D(64, (3, 3), activation='relu'))\n",
    "model.add(layers.MaxPooling2D((2, 2)))\n",
    "model.add(layers.Conv2D(128, (3, 3), activation='relu'))\n",
    "model.add(layers.MaxPooling2D((2, 2)))\n",
    "model.add(layers.Conv2D(128, (3, 3), activation='relu'))\n",
    "model.add(layers.MaxPooling2D((2, 2)))\n",
    "model.add(layers.Flatten())\n",
    "model.add(layers.Dropout(0.5))\n",
    "model.add(layers.Dense(512, activation='relu'))\n",
    "model.add(layers.Dense(1, activation='sigmoid'))"
   ]
  },
  {
   "cell_type": "markdown",
   "id": "1a6a943a",
   "metadata": {},
   "source": [
    "## compile model"
   ]
  },
  {
   "cell_type": "code",
   "execution_count": 46,
   "id": "ef267364",
   "metadata": {},
   "outputs": [],
   "source": [
    "model.compile(loss='binary_crossentropy',\n",
    "              optimizer=optimizers.RMSprop(learning_rate=1e-4),\n",
    "              metrics=['acc'])\n",
    "\n",
    "#     optimizer = Adam(0.0001)\n",
    "#     model.compile(optimizer=optimizer, loss='categorical_crossentropy', metrics=['accuracy'])\n",
    "\n",
    "# model.compile(optimizer='adam',loss='categorical_crossentropy',metrics=['accuracy'])\n",
    "\n",
    "# new_model.compile(loss=keras.losses.BinaryCrossentropy(), optimizer = \"adam\", metrics = [\"accuracy\"])"
   ]
  },
  {
   "cell_type": "code",
   "execution_count": 47,
   "id": "ab4873fd",
   "metadata": {},
   "outputs": [
    {
     "name": "stdout",
     "output_type": "stream",
     "text": [
      "Epoch 1/15\n",
      "30/30 [==============================] - 26s 837ms/step - loss: 0.6763 - acc: 0.6031\n",
      "Epoch 2/15\n",
      "30/30 [==============================] - 25s 844ms/step - loss: 0.6463 - acc: 0.6426\n",
      "Epoch 3/15\n",
      "30/30 [==============================] - 26s 870ms/step - loss: 0.5805 - acc: 0.6850\n",
      "Epoch 4/15\n",
      "30/30 [==============================] - 26s 873ms/step - loss: 0.4976 - acc: 0.7483\n",
      "Epoch 5/15\n",
      "30/30 [==============================] - 26s 873ms/step - loss: 0.4404 - acc: 0.8317\n",
      "Epoch 6/15\n",
      "30/30 [==============================] - 27s 885ms/step - loss: 0.4087 - acc: 0.8517\n",
      "Epoch 7/15\n",
      "30/30 [==============================] - 25s 840ms/step - loss: 0.3518 - acc: 0.8986\n",
      "Epoch 8/15\n",
      "30/30 [==============================] - 26s 873ms/step - loss: 0.2888 - acc: 0.9183\n",
      "Epoch 9/15\n",
      "30/30 [==============================] - 27s 880ms/step - loss: 0.2736 - acc: 0.9183\n",
      "Epoch 10/15\n",
      "30/30 [==============================] - 27s 882ms/step - loss: 0.2503 - acc: 0.9167\n",
      "Epoch 11/15\n",
      "30/30 [==============================] - 26s 872ms/step - loss: 0.1848 - acc: 0.9400\n",
      "Epoch 12/15\n",
      "30/30 [==============================] - 28s 924ms/step - loss: 0.1915 - acc: 0.9350\n",
      "Epoch 13/15\n",
      "30/30 [==============================] - 27s 887ms/step - loss: 0.1814 - acc: 0.9367\n",
      "Epoch 14/15\n",
      "30/30 [==============================] - 26s 875ms/step - loss: 0.1745 - acc: 0.9347\n",
      "Epoch 15/15\n",
      "30/30 [==============================] - 27s 885ms/step - loss: 0.1608 - acc: 0.9517\n"
     ]
    }
   ],
   "source": [
    "history = model.fit(\n",
    "      train_generator,\n",
    "      steps_per_epoch=30, #100\n",
    "      epochs=15) #30"
   ]
  },
  {
   "cell_type": "code",
   "execution_count": 48,
   "id": "50886e94",
   "metadata": {},
   "outputs": [],
   "source": [
    "model.save('models/cnnBasic.h5', overwrite=True)"
   ]
  },
  {
   "cell_type": "markdown",
   "id": "19619638",
   "metadata": {},
   "source": [
    "## plot acc"
   ]
  },
  {
   "cell_type": "code",
   "execution_count": 49,
   "id": "9fe8b8d6",
   "metadata": {},
   "outputs": [
    {
     "data": {
      "image/png": "[encoded data removed]",
      "text/plain": [
       "<Figure size 432x288 with 1 Axes>"
      ]
     },
     "metadata": {
      "needs_background": "light"
     },
     "output_type": "display_data"
    },
    {
     "data": {
      "image/png": "[encoded data removed]",
      "text/plain": [
       "<Figure size 432x288 with 1 Axes>"
      ]
     },
     "metadata": {
      "needs_background": "light"
     },
     "output_type": "display_data"
    }
   ],
   "source": [
    "import matplotlib.pyplot as plt\n",
    "%matplotlib inline\n",
    "acc = history.history['acc']\n",
    "#val_acc = history.history['val_acc']\n",
    "loss = history.history['loss']\n",
    "#val_loss = history.history['val_loss']\n",
    "\n",
    "epochs = range(len(acc))\n",
    "\n",
    "plt.plot(epochs, acc, 'bo', label='Training acc')\n",
    "#plt.plot(epochs, val_acc, 'b', label='Validation acc')\n",
    "plt.title('Training and validation accuracy')\n",
    "plt.legend()\n",
    "\n",
    "plt.figure()\n",
    "\n",
    "plt.plot(epochs, loss, 'bo', label='Training loss')\n",
    "#plt.plot(epochs, val_loss, 'b', label='Validation loss')\n",
    "plt.title('Training and validation loss')\n",
    "plt.legend()\n",
    "\n",
    "plt.show()"
   ]
  },
  {
   "cell_type": "code",
   "execution_count": null,
   "id": "dc7c3c54",
   "metadata": {},
   "outputs": [],
   "source": []
  }
 ],
 "metadata": {
  "kernelspec": {
   "display_name": "Python 3 (ipykernel)",
   "language": "python",
   "name": "python3"
  },
  "language_info": {
   "codemirror_mode": {
    "name": "ipython",
    "version": 3
   },
   "file_extension": ".py",
   "mimetype": "text/x-python",
   "name": "python",
   "nbconvert_exporter": "python",
   "pygments_lexer": "ipython3",
   "version": "3.8.6"
  }
 },
 "nbformat": 4,
 "nbformat_minor": 5
}
