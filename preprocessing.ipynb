{
 "cells": [
  {
   "cell_type": "code",
   "execution_count": 12,
   "id": "b06807bb",
   "metadata": {},
   "outputs": [],
   "source": [
    "import cv2\n",
    "import os\n",
    "from keras.preprocessing.image import ImageDataGenerator"
   ]
  },
  {
   "cell_type": "markdown",
   "id": "68a2ddff",
   "metadata": {},
   "source": [
    "# Reading all images from dataset and labeling them"
   ]
  },
  {
   "cell_type": "code",
   "execution_count": 10,
   "id": "a1acd856",
   "metadata": {},
   "outputs": [],
   "source": [
    "train_dir = '../dataset/train'\n",
    "Classes = ['closed', 'open']\n",
    "training_data = []"
   ]
  },
  {
   "cell_type": "code",
   "execution_count": 6,
   "id": "ee204b52",
   "metadata": {},
   "outputs": [],
   "source": [
    "def create_training_data():\n",
    "    for category in Classes:\n",
    "        path = os.path.join(train_di, category)\n",
    "        class_num = Classes.index(category)\n",
    "        for img in os.listdir(path):\n",
    "            try :\n",
    "                img_array = cv2.imread(os.path.join(path,img))\n",
    "                training_data.append([img_array, class_num])\n",
    "            except Exception as e:\n",
    "                print(e)"
   ]
  },
  {
   "cell_type": "code",
   "execution_count": 7,
   "id": "11fa2bc0",
   "metadata": {},
   "outputs": [],
   "source": [
    "create_training_data()"
   ]
  },
  {
   "cell_type": "markdown",
   "id": "2b0ea2d9",
   "metadata": {},
   "source": [
    "## size of dataset"
   ]
  },
  {
   "cell_type": "code",
   "execution_count": 8,
   "id": "2332193d",
   "metadata": {},
   "outputs": [
    {
     "name": "stdout",
     "output_type": "stream",
     "text": [
      "15351\n"
     ]
    }
   ],
   "source": [
    "print(len(training_data))"
   ]
  },
  {
   "cell_type": "markdown",
   "id": "d44b3605",
   "metadata": {},
   "source": [
    "# Image Processing"
   ]
  },
  {
   "cell_type": "code",
   "execution_count": 9,
   "id": "470bdf61",
   "metadata": {},
   "outputs": [],
   "source": [
    "img_size = 224\n",
    "batch_size = 64"
   ]
  },
  {
   "cell_type": "code",
   "execution_count": 13,
   "id": "f29dd067",
   "metadata": {},
   "outputs": [],
   "source": [
    "train_datagen = ImageDataGenerator(rescale=1./255, validation_split=0.2)\n",
    "#test_datagen = ImageDataGenerator(rescale=1./255)"
   ]
  },
  {
   "cell_type": "code",
   "execution_count": 14,
   "id": "d6090f45",
   "metadata": {},
   "outputs": [
    {
     "name": "stdout",
     "output_type": "stream",
     "text": [
      "Found 12281 images belonging to 2 classes.\n",
      "Found 3070 images belonging to 2 classes.\n"
     ]
    }
   ],
   "source": [
    "train_generator = train_datagen.flow_from_directory(\n",
    "        train_dir,      # This is the target directory\n",
    "        target_size=(img_size, img_size),    # All images will be resized to \"img_size\" * \"img_size\"\n",
    "        batch_size = batch_size,\n",
    "        class_mode='binary',           # Since we use binary_crossentropy loss, we need binary labels\n",
    "        subset='training')\n",
    "\n",
    "validation_generator = train_datagen.flow_from_directory(\n",
    "    train_dir, # same directory as training data\n",
    "    target_size=(img_size, img_size),\n",
    "    batch_size=batch_size,\n",
    "    class_mode='binary',\n",
    "    subset='validation') # set as validation data"
   ]
  },
  {
   "cell_type": "code",
   "execution_count": 15,
   "id": "126d1c41",
   "metadata": {},
   "outputs": [
    {
     "name": "stdout",
     "output_type": "stream",
     "text": [
      "data batch shape: (64, 224, 224, 3)\n",
      "labels batch shape: (64,)\n"
     ]
    }
   ],
   "source": [
    "for data_batch, labels_batch in train_generator:\n",
    "    print('data batch shape:', data_batch.shape)\n",
    "    print('labels batch shape:', labels_batch.shape)\n",
    "    break"
   ]
  }
 ],
 "metadata": {
  "kernelspec": {
   "display_name": "Python 3 (ipykernel)",
   "language": "python",
   "name": "python3"
  },
  "language_info": {
   "codemirror_mode": {
    "name": "ipython",
    "version": 3
   },
   "file_extension": ".py",
   "mimetype": "text/x-python",
   "name": "python",
   "nbconvert_exporter": "python",
   "pygments_lexer": "ipython3",
   "version": "3.8.6"
  }
 },
 "nbformat": 4,
 "nbformat_minor": 5
}
