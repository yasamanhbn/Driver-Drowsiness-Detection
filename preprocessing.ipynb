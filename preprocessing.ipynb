{
 "cells": [
  {
   "cell_type": "code",
   "execution_count": 60,
   "id": "b06807bb",
   "metadata": {},
   "outputs": [],
   "source": [
    "import cv2\n",
    "import os"
   ]
  },
  {
   "cell_type": "markdown",
   "id": "68a2ddff",
   "metadata": {},
   "source": [
    "# Reading all images from dataset and labeling them"
   ]
  },
  {
   "cell_type": "code",
   "execution_count": 83,
   "id": "a1acd856",
   "metadata": {},
   "outputs": [],
   "source": [
    "train_dir = '../dataset/base'\n",
    "Classes = ['closed', 'open']\n",
    "img_size = 128\n",
    "training_data = []"
   ]
  },
  {
   "cell_type": "code",
   "execution_count": 84,
   "id": "ee204b52",
   "metadata": {},
   "outputs": [],
   "source": [
    "import matplotlib.pyplot as plt\n",
    "\n",
    "def create_training_data():\n",
    "    for category in Classes:\n",
    "        path = os.path.join(train_dir, category)\n",
    "        class_num = Classes.index(category)\n",
    "        for img in os.listdir(path):\n",
    "            img_array = cv2.imread(os.path.join(path,img), cv2.IMREAD_GRAYSCALE)\n",
    "            backtorgb = cv2.cvtColor(img_array,cv2.COLOR_GRAY2RGB)\n",
    "            backtorgb  = cv2.resize(backtorgb, (img_size,img_size))\n",
    "            training_data.append([backtorgb, class_num])"
   ]
  },
  {
   "cell_type": "code",
   "execution_count": 85,
   "id": "11fa2bc0",
   "metadata": {},
   "outputs": [],
   "source": [
    "create_training_data()"
   ]
  },
  {
   "cell_type": "code",
   "execution_count": 86,
   "id": "86bae93c",
   "metadata": {},
   "outputs": [],
   "source": [
    "import random\n",
    "import numpy as np\n",
    "random.shuffle(training_data)"
   ]
  },
  {
   "cell_type": "code",
   "execution_count": 87,
   "id": "297d0351",
   "metadata": {},
   "outputs": [],
   "source": [
    "X_train = []\n",
    "y_label = []\n",
    "for features, label in training_data:\n",
    "    X_train.append(features)\n",
    "    y_label.append(label)\n",
    "\n",
    "X_train = np.array(X_train)\n",
    "X_train = X_train/255.0\n",
    "\n",
    "y_label = np.array(y_label)"
   ]
  },
  {
   "cell_type": "code",
   "execution_count": 88,
   "id": "c0cfe3df",
   "metadata": {},
   "outputs": [
    {
     "data": {
      "text/plain": [
       "(2637,)"
      ]
     },
     "execution_count": 88,
     "metadata": {},
     "output_type": "execute_result"
    }
   ],
   "source": [
    "y_label.shape"
   ]
  },
  {
   "cell_type": "code",
   "execution_count": 89,
   "id": "09fb3677",
   "metadata": {},
   "outputs": [],
   "source": [
    "from sklearn.model_selection import train_test_split\n",
    "X_train, X_val, y_train, y_val = train_test_split(X_train, y_label, test_size=0.2, random_state=42)"
   ]
  },
  {
   "cell_type": "code",
   "execution_count": 90,
   "id": "a1158079",
   "metadata": {},
   "outputs": [
    {
     "data": {
      "text/plain": [
       "(2109, 128, 128, 3)"
      ]
     },
     "execution_count": 90,
     "metadata": {},
     "output_type": "execute_result"
    }
   ],
   "source": [
    "X_train.shape"
   ]
  },
  {
   "cell_type": "code",
   "execution_count": 91,
   "id": "641f6d11",
   "metadata": {},
   "outputs": [
    {
     "data": {
      "text/plain": [
       "(528, 128, 128, 3)"
      ]
     },
     "execution_count": 91,
     "metadata": {},
     "output_type": "execute_result"
    }
   ],
   "source": [
    "X_val.shape"
   ]
  },
  {
   "cell_type": "markdown",
   "id": "2b0ea2d9",
   "metadata": {},
   "source": [
    "## size of dataset"
   ]
  },
  {
   "cell_type": "markdown",
   "id": "d44b3605",
   "metadata": {},
   "source": [
    "# Image Processing"
   ]
  },
  {
   "cell_type": "code",
   "execution_count": 18,
   "id": "470bdf61",
   "metadata": {},
   "outputs": [],
   "source": [
    "img_size = 224\n",
    "batch_size = 64"
   ]
  },
  {
   "cell_type": "code",
   "execution_count": 19,
   "id": "f29dd067",
   "metadata": {},
   "outputs": [],
   "source": [
    "train_datagen = ImageDataGenerator(rescale=1./255, validation_split=0.2)\n",
    "#test_datagen = ImageDataGenerator(rescale=1./255)"
   ]
  },
  {
   "cell_type": "code",
   "execution_count": 20,
   "id": "d6090f45",
   "metadata": {},
   "outputs": [
    {
     "name": "stdout",
     "output_type": "stream",
     "text": [
      "Found 8637 images belonging to 2 classes.\n",
      "Found 2159 images belonging to 2 classes.\n"
     ]
    }
   ],
   "source": [
    "train_generator = train_datagen.flow_from_directory(\n",
    "        train_dir,      # This is the target directory\n",
    "        target_size=(img_size, img_size),    # All images will be resized to \"img_size\" * \"img_size\"\n",
    "        batch_size = batch_size,\n",
    "        class_mode='binary',           # Since we use binary_crossentropy loss, we need binary labels\n",
    "        subset='training')\n",
    "\n",
    "validation_generator = train_datagen.flow_from_directory(\n",
    "    train_dir, # same directory as training data\n",
    "    target_size=(img_size, img_size),\n",
    "    batch_size=batch_size,\n",
    "    class_mode='binary',\n",
    "    subset='validation') # set as validation data"
   ]
  },
  {
   "cell_type": "code",
   "execution_count": 21,
   "id": "126d1c41",
   "metadata": {},
   "outputs": [
    {
     "name": "stdout",
     "output_type": "stream",
     "text": [
      "data batch shape: (64, 224, 224, 3)\n",
      "labels batch shape: (64,)\n"
     ]
    }
   ],
   "source": [
    "for data_batch, labels_batch in train_generator:\n",
    "    print('data batch shape:', data_batch.shape)\n",
    "    print('labels batch shape:', labels_batch.shape)\n",
    "    break"
   ]
  },
  {
   "cell_type": "code",
   "execution_count": null,
   "id": "6552a44b",
   "metadata": {},
   "outputs": [],
   "source": []
  }
 ],
 "metadata": {
  "kernelspec": {
   "display_name": "Python 3 (ipykernel)",
   "language": "python",
   "name": "python3"
  },
  "language_info": {
   "codemirror_mode": {
    "name": "ipython",
    "version": 3
   },
   "file_extension": ".py",
   "mimetype": "text/x-python",
   "name": "python",
   "nbconvert_exporter": "python",
   "pygments_lexer": "ipython3",
   "version": "3.8.6"
  }
 },
 "nbformat": 4,
 "nbformat_minor": 5
}
