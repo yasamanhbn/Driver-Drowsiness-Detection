{
 "cells": [
  {
   "cell_type": "code",
   "execution_count": null,
   "id": "d61bfbfe",
   "metadata": {
    "id": "d61bfbfe"
   },
   "outputs": [],
   "source": [
    "import tensorflow as tf\n",
    "from tensorflow import keras\n",
    "from tensorflow.keras import optimizers\n",
    "from keras import layers\n",
    "from keras import models\n",
    "from keras.applications.vgg16 import VGG16"
   ]
  },
  {
   "cell_type": "markdown",
   "id": "mJ069aLr5Vsd",
   "metadata": {
    "id": "mJ069aLr5Vsd"
   },
   "source": [
    "## Mount google drive\n"
   ]
  },
  {
   "cell_type": "code",
   "execution_count": null,
   "id": "kxiwYbcp2AAp",
   "metadata": {
    "colab": {
     "base_uri": "https://localhost:8080/"
    },
    "executionInfo": {
     "elapsed": 4272,
     "status": "ok",
     "timestamp": 1656673249487,
     "user": {
      "displayName": "yasaman haghbin",
      "userId": "12606726552507034462"
     },
     "user_tz": -270
    },
    "id": "kxiwYbcp2AAp",
    "outputId": "7189acc6-73df-4d94-a41a-c3f91a67ed9b"
   },
   "outputs": [
    {
     "name": "stdout",
     "output_type": "stream",
     "text": [
      "Drive already mounted at /content/drive; to attempt to forcibly remount, call drive.mount(\"/content/drive\", force_remount=True).\n"
     ]
    }
   ],
   "source": [
    "from google.colab import drive\n",
    "drive.mount('/content/drive')"
   ]
  },
  {
   "cell_type": "markdown",
   "id": "SyvsPkmn5ZKd",
   "metadata": {
    "id": "SyvsPkmn5ZKd"
   },
   "source": [
    "## Copy dataset"
   ]
  },
  {
   "cell_type": "code",
   "execution_count": null,
   "id": "932DU6LxSmRm",
   "metadata": {
    "id": "932DU6LxSmRm"
   },
   "outputs": [],
   "source": [
    "!cp -r /content/drive/MyDrive/Colab\\ Notebooks/BC.s/train  /content"
   ]
  },
  {
   "cell_type": "markdown",
   "id": "UczN8u2v5dcQ",
   "metadata": {
    "id": "UczN8u2v5dcQ"
   },
   "source": [
    "# Load dataset"
   ]
  },
  {
   "cell_type": "code",
   "execution_count": null,
   "id": "ebEB9P0h1J3C",
   "metadata": {
    "id": "ebEB9P0h1J3C"
   },
   "outputs": [],
   "source": [
    "!cp -r /content/drive/MyDrive/Colab\\ Notebooks/BC.s/preprocessing.py  /content"
   ]
  },
  {
   "cell_type": "code",
   "execution_count": null,
   "id": "-pu4bU211Sn0",
   "metadata": {
    "id": "-pu4bU211Sn0"
   },
   "outputs": [],
   "source": [
    "import preprocessing"
   ]
  },
  {
   "cell_type": "code",
   "execution_count": null,
   "id": "KGDKOSG11VWi",
   "metadata": {
    "id": "KGDKOSG11VWi"
   },
   "outputs": [],
   "source": [
    "X_train, X_val, y_train, y_val = preprocessing.loadData()"
   ]
  },
  {
   "cell_type": "markdown",
   "id": "wtmqydiW1KFk",
   "metadata": {
    "id": "wtmqydiW1KFk"
   },
   "source": [
    "# Create model"
   ]
  },
  {
   "cell_type": "code",
   "execution_count": null,
   "id": "8pDLqfTj2VW6",
   "metadata": {
    "id": "8pDLqfTj2VW6"
   },
   "outputs": [],
   "source": [
    "img_size = 128"
   ]
  },
  {
   "cell_type": "code",
   "execution_count": null,
   "id": "cc2cc6b6",
   "metadata": {
    "id": "cc2cc6b6"
   },
   "outputs": [],
   "source": [
    "conv_base = VGG16(weights='imagenet',\n",
    "                  include_top=False,\n",
    "                  input_shape=(img_size, img_size, 3))"
   ]
  },
  {
   "cell_type": "code",
   "execution_count": null,
   "id": "5d530a8d",
   "metadata": {
    "id": "5d530a8d"
   },
   "outputs": [],
   "source": [
    "conv_base.trainable = False"
   ]
  },
  {
   "cell_type": "code",
   "execution_count": null,
   "id": "82e88bfb",
   "metadata": {
    "id": "82e88bfb"
   },
   "outputs": [],
   "source": [
    "model = models.Sequential()\n",
    "model.add(conv_base)\n",
    "model.add(layers.Flatten())\n",
    "model.add(layers.Dense(256, activation='relu'))\n",
    "model.add(layers.Dropout(0.5))\n",
    "model.add(layers.Dense(1, activation='sigmoid'))"
   ]
  },
  {
   "cell_type": "code",
   "execution_count": null,
   "id": "d8a7d916",
   "metadata": {
    "colab": {
     "base_uri": "https://localhost:8080/"
    },
    "executionInfo": {
     "elapsed": 40,
     "status": "ok",
     "timestamp": 1656673331780,
     "user": {
      "displayName": "yasaman haghbin",
      "userId": "12606726552507034462"
     },
     "user_tz": -270
    },
    "id": "d8a7d916",
    "outputId": "d39a0e80-3fdd-4ca3-d584-6d07668dcc71"
   },
   "outputs": [
    {
     "name": "stdout",
     "output_type": "stream",
     "text": [
      "Model: \"sequential\"\n",
      "_________________________________________________________________\n",
      " Layer (type)                Output Shape              Param #   \n",
      "=================================================================\n",
      " vgg16 (Functional)          (None, 4, 4, 512)         14714688  \n",
      "                                                                 \n",
      " flatten (Flatten)           (None, 8192)              0         \n",
      "                                                                 \n",
      " dense (Dense)               (None, 256)               2097408   \n",
      "                                                                 \n",
      " dropout (Dropout)           (None, 256)               0         \n",
      "                                                                 \n",
      " dense_1 (Dense)             (None, 1)                 257       \n",
      "                                                                 \n",
      "=================================================================\n",
      "Total params: 16,812,353\n",
      "Trainable params: 2,097,665\n",
      "Non-trainable params: 14,714,688\n",
      "_________________________________________________________________\n"
     ]
    }
   ],
   "source": [
    "model.summary()"
   ]
  },
  {
   "cell_type": "markdown",
   "id": "zB7jRqT65lKF",
   "metadata": {
    "id": "zB7jRqT65lKF"
   },
   "source": [
    "# Compile model"
   ]
  },
  {
   "cell_type": "code",
   "execution_count": null,
   "id": "7340ef12",
   "metadata": {
    "id": "7340ef12"
   },
   "outputs": [],
   "source": [
    "import math\n",
    "initial_learning_rate = 0.0001\n",
    "epochs = 50\n",
    "decay = initial_learning_rate / epochs\n",
    "def lr_exp_decay(epoch, lr):\n",
    "    return lr * 1 / (1 + decay * epoch)\n",
    "\n",
    "optimizer = keras.optimizers.Adam(learning_rate=initial_learning_rate)\n",
    "model.compile(loss=keras.losses.BinaryCrossentropy(),\n",
    "              optimizer=optimizer,\n",
    "              metrics=['accuracy'])"
   ]
  },
  {
   "cell_type": "markdown",
   "id": "TekUrVIk5pSK",
   "metadata": {
    "id": "TekUrVIk5pSK"
   },
   "source": [
    "# Fit model"
   ]
  },
  {
   "cell_type": "code",
   "execution_count": null,
   "id": "181e463c",
   "metadata": {
    "colab": {
     "base_uri": "https://localhost:8080/"
    },
    "executionInfo": {
     "elapsed": 1045865,
     "status": "ok",
     "timestamp": 1656674377640,
     "user": {
      "displayName": "yasaman haghbin",
      "userId": "12606726552507034462"
     },
     "user_tz": -270
    },
    "id": "181e463c",
    "outputId": "a86ffb7c-a90d-435f-d9fe-bc61c872c40e"
   },
   "outputs": [
    {
     "name": "stdout",
     "output_type": "stream",
     "text": [
      "Epoch 1/50\n",
      "150/150 [==============================] - 34s 140ms/step - loss: 0.5498 - accuracy: 0.7287 - val_loss: 0.4257 - val_accuracy: 0.8079 - lr: 1.0000e-04\n",
      "Epoch 2/50\n",
      "150/150 [==============================] - 19s 124ms/step - loss: 0.3884 - accuracy: 0.8491 - val_loss: 0.3368 - val_accuracy: 0.8617 - lr: 1.0000e-04\n",
      "Epoch 3/50\n",
      "150/150 [==============================] - 19s 126ms/step - loss: 0.3243 - accuracy: 0.8808 - val_loss: 0.2877 - val_accuracy: 0.8996 - lr: 9.9999e-05\n",
      "Epoch 4/50\n",
      "150/150 [==============================] - 19s 127ms/step - loss: 0.2807 - accuracy: 0.9006 - val_loss: 0.2655 - val_accuracy: 0.8842 - lr: 9.9999e-05\n",
      "Epoch 5/50\n",
      "150/150 [==============================] - 20s 136ms/step - loss: 0.2536 - accuracy: 0.9097 - val_loss: 0.2352 - val_accuracy: 0.9067 - lr: 9.9998e-05\n",
      "Epoch 6/50\n",
      "150/150 [==============================] - 19s 128ms/step - loss: 0.2282 - accuracy: 0.9193 - val_loss: 0.2186 - val_accuracy: 0.9100 - lr: 9.9997e-05\n",
      "Epoch 7/50\n",
      "150/150 [==============================] - 19s 129ms/step - loss: 0.2112 - accuracy: 0.9256 - val_loss: 0.1967 - val_accuracy: 0.9383 - lr: 9.9996e-05\n",
      "Epoch 8/50\n",
      "150/150 [==============================] - 19s 130ms/step - loss: 0.1990 - accuracy: 0.9293 - val_loss: 0.1842 - val_accuracy: 0.9375 - lr: 9.9994e-05\n",
      "Epoch 9/50\n",
      "150/150 [==============================] - 20s 131ms/step - loss: 0.1848 - accuracy: 0.9334 - val_loss: 0.1832 - val_accuracy: 0.9388 - lr: 9.9993e-05\n",
      "Epoch 10/50\n",
      "150/150 [==============================] - 20s 131ms/step - loss: 0.1778 - accuracy: 0.9359 - val_loss: 0.1655 - val_accuracy: 0.9446 - lr: 9.9991e-05\n",
      "Epoch 11/50\n",
      "150/150 [==============================] - 20s 132ms/step - loss: 0.1675 - accuracy: 0.9385 - val_loss: 0.1586 - val_accuracy: 0.9458 - lr: 9.9989e-05\n",
      "Epoch 12/50\n",
      "150/150 [==============================] - 20s 132ms/step - loss: 0.1639 - accuracy: 0.9410 - val_loss: 0.1742 - val_accuracy: 0.9375 - lr: 9.9987e-05\n",
      "Epoch 13/50\n",
      "150/150 [==============================] - 20s 132ms/step - loss: 0.1581 - accuracy: 0.9431 - val_loss: 0.1486 - val_accuracy: 0.9492 - lr: 9.9984e-05\n",
      "Epoch 14/50\n",
      "150/150 [==============================] - 20s 133ms/step - loss: 0.1473 - accuracy: 0.9440 - val_loss: 0.1425 - val_accuracy: 0.9496 - lr: 9.9982e-05\n",
      "Epoch 15/50\n",
      "150/150 [==============================] - 20s 133ms/step - loss: 0.1456 - accuracy: 0.9449 - val_loss: 0.1408 - val_accuracy: 0.9496 - lr: 9.9979e-05\n",
      "Epoch 16/50\n",
      "150/150 [==============================] - 20s 134ms/step - loss: 0.1421 - accuracy: 0.9471 - val_loss: 0.1605 - val_accuracy: 0.9421 - lr: 9.9976e-05\n",
      "Epoch 17/50\n",
      "150/150 [==============================] - 20s 133ms/step - loss: 0.1371 - accuracy: 0.9506 - val_loss: 0.1360 - val_accuracy: 0.9504 - lr: 9.9973e-05\n",
      "Epoch 18/50\n",
      "150/150 [==============================] - 20s 134ms/step - loss: 0.1363 - accuracy: 0.9494 - val_loss: 0.1309 - val_accuracy: 0.9563 - lr: 9.9969e-05\n",
      "Epoch 19/50\n",
      "150/150 [==============================] - 20s 134ms/step - loss: 0.1334 - accuracy: 0.9498 - val_loss: 0.1260 - val_accuracy: 0.9575 - lr: 9.9966e-05\n",
      "Epoch 20/50\n",
      "150/150 [==============================] - 20s 134ms/step - loss: 0.1303 - accuracy: 0.9513 - val_loss: 0.1250 - val_accuracy: 0.9571 - lr: 9.9962e-05\n",
      "Epoch 21/50\n",
      "150/150 [==============================] - 20s 134ms/step - loss: 0.1251 - accuracy: 0.9527 - val_loss: 0.1241 - val_accuracy: 0.9579 - lr: 9.9958e-05\n",
      "Epoch 22/50\n",
      "150/150 [==============================] - 20s 134ms/step - loss: 0.1189 - accuracy: 0.9591 - val_loss: 0.1342 - val_accuracy: 0.9521 - lr: 9.9954e-05\n",
      "Epoch 23/50\n",
      "150/150 [==============================] - 20s 135ms/step - loss: 0.1205 - accuracy: 0.9567 - val_loss: 0.1209 - val_accuracy: 0.9567 - lr: 9.9949e-05\n",
      "Epoch 24/50\n",
      "150/150 [==============================] - 20s 135ms/step - loss: 0.1178 - accuracy: 0.9573 - val_loss: 0.1153 - val_accuracy: 0.9600 - lr: 9.9945e-05\n",
      "Epoch 25/50\n",
      "150/150 [==============================] - 20s 135ms/step - loss: 0.1130 - accuracy: 0.9596 - val_loss: 0.1140 - val_accuracy: 0.9617 - lr: 9.9940e-05\n",
      "Epoch 26/50\n",
      "150/150 [==============================] - 20s 135ms/step - loss: 0.1118 - accuracy: 0.9615 - val_loss: 0.1119 - val_accuracy: 0.9604 - lr: 9.9935e-05\n",
      "Epoch 27/50\n",
      "150/150 [==============================] - 20s 135ms/step - loss: 0.1098 - accuracy: 0.9604 - val_loss: 0.1107 - val_accuracy: 0.9608 - lr: 9.9930e-05\n",
      "Epoch 28/50\n",
      "150/150 [==============================] - 20s 136ms/step - loss: 0.1098 - accuracy: 0.9626 - val_loss: 0.1334 - val_accuracy: 0.9479 - lr: 9.9924e-05\n",
      "Epoch 29/50\n",
      "150/150 [==============================] - 20s 135ms/step - loss: 0.1101 - accuracy: 0.9589 - val_loss: 0.1071 - val_accuracy: 0.9625 - lr: 9.9919e-05\n",
      "Epoch 30/50\n",
      "150/150 [==============================] - 20s 135ms/step - loss: 0.1079 - accuracy: 0.9606 - val_loss: 0.1140 - val_accuracy: 0.9575 - lr: 9.9913e-05\n",
      "Epoch 31/50\n",
      "150/150 [==============================] - 20s 135ms/step - loss: 0.1064 - accuracy: 0.9620 - val_loss: 0.1097 - val_accuracy: 0.9646 - lr: 9.9907e-05\n",
      "Epoch 32/50\n",
      "150/150 [==============================] - 20s 135ms/step - loss: 0.1013 - accuracy: 0.9627 - val_loss: 0.1045 - val_accuracy: 0.9617 - lr: 9.9901e-05\n",
      "Epoch 33/50\n",
      "150/150 [==============================] - 20s 135ms/step - loss: 0.0997 - accuracy: 0.9644 - val_loss: 0.1047 - val_accuracy: 0.9658 - lr: 9.9894e-05\n",
      "Epoch 34/50\n",
      "150/150 [==============================] - 20s 135ms/step - loss: 0.0965 - accuracy: 0.9645 - val_loss: 0.1151 - val_accuracy: 0.9629 - lr: 9.9888e-05\n",
      "Epoch 35/50\n",
      "150/150 [==============================] - 20s 135ms/step - loss: 0.1016 - accuracy: 0.9620 - val_loss: 0.0992 - val_accuracy: 0.9658 - lr: 9.9881e-05\n",
      "Epoch 36/50\n",
      "150/150 [==============================] - 20s 135ms/step - loss: 0.0928 - accuracy: 0.9678 - val_loss: 0.0982 - val_accuracy: 0.9667 - lr: 9.9874e-05\n",
      "Epoch 37/50\n",
      "150/150 [==============================] - 20s 135ms/step - loss: 0.0926 - accuracy: 0.9681 - val_loss: 0.1088 - val_accuracy: 0.9675 - lr: 9.9867e-05\n",
      "Epoch 38/50\n",
      "150/150 [==============================] - 20s 135ms/step - loss: 0.0963 - accuracy: 0.9658 - val_loss: 0.0966 - val_accuracy: 0.9683 - lr: 9.9860e-05\n",
      "Epoch 39/50\n",
      "150/150 [==============================] - 20s 136ms/step - loss: 0.0926 - accuracy: 0.9654 - val_loss: 0.0989 - val_accuracy: 0.9700 - lr: 9.9852e-05\n",
      "Epoch 40/50\n",
      "150/150 [==============================] - 21s 143ms/step - loss: 0.0940 - accuracy: 0.9654 - val_loss: 0.1156 - val_accuracy: 0.9550 - lr: 9.9844e-05\n",
      "Epoch 41/50\n",
      "150/150 [==============================] - 20s 135ms/step - loss: 0.0963 - accuracy: 0.9648 - val_loss: 0.1034 - val_accuracy: 0.9608 - lr: 9.9836e-05\n",
      "Epoch 42/50\n",
      "150/150 [==============================] - 20s 136ms/step - loss: 0.0899 - accuracy: 0.9682 - val_loss: 0.0947 - val_accuracy: 0.9663 - lr: 9.9828e-05\n",
      "Epoch 43/50\n",
      "150/150 [==============================] - 20s 137ms/step - loss: 0.0930 - accuracy: 0.9667 - val_loss: 0.0945 - val_accuracy: 0.9708 - lr: 9.9820e-05\n",
      "Epoch 44/50\n",
      "150/150 [==============================] - 20s 136ms/step - loss: 0.0868 - accuracy: 0.9688 - val_loss: 0.0916 - val_accuracy: 0.9700 - lr: 9.9811e-05\n",
      "Epoch 45/50\n",
      "150/150 [==============================] - 21s 143ms/step - loss: 0.0855 - accuracy: 0.9691 - val_loss: 0.0903 - val_accuracy: 0.9704 - lr: 9.9802e-05\n",
      "Epoch 46/50\n",
      "150/150 [==============================] - 20s 136ms/step - loss: 0.0836 - accuracy: 0.9707 - val_loss: 0.0952 - val_accuracy: 0.9621 - lr: 9.9793e-05\n",
      "Epoch 47/50\n",
      "150/150 [==============================] - 20s 137ms/step - loss: 0.0882 - accuracy: 0.9689 - val_loss: 0.0904 - val_accuracy: 0.9717 - lr: 9.9784e-05\n",
      "Epoch 48/50\n",
      "150/150 [==============================] - 20s 136ms/step - loss: 0.0829 - accuracy: 0.9711 - val_loss: 0.1009 - val_accuracy: 0.9613 - lr: 9.9775e-05\n",
      "Epoch 49/50\n",
      "150/150 [==============================] - 21s 143ms/step - loss: 0.0830 - accuracy: 0.9700 - val_loss: 0.0884 - val_accuracy: 0.9712 - lr: 9.9765e-05\n",
      "Epoch 50/50\n",
      "150/150 [==============================] - 22s 144ms/step - loss: 0.0841 - accuracy: 0.9691 - val_loss: 0.0993 - val_accuracy: 0.9613 - lr: 9.9755e-05\n"
     ]
    }
   ],
   "source": [
    "history = model.fit(\n",
    "    X_train,\n",
    "    y_train,\n",
    "    batch_size=64,\n",
    "    epochs = epochs,\n",
    "    shuffle=True,\n",
    "    validation_data = (X_val, y_val),\n",
    "    callbacks=[keras.callbacks.LearningRateScheduler(lr_exp_decay)],\n",
    ") "
   ]
  },
  {
   "cell_type": "markdown",
   "id": "qRWkJoLH5rvR",
   "metadata": {
    "id": "qRWkJoLH5rvR"
   },
   "source": [
    "## Save model"
   ]
  },
  {
   "cell_type": "code",
   "execution_count": null,
   "id": "X8ofsZ83tde2",
   "metadata": {
    "id": "X8ofsZ83tde2"
   },
   "outputs": [],
   "source": [
    "model.save('./VGG.h5', overwrite=True)"
   ]
  },
  {
   "cell_type": "markdown",
   "id": "-oGd0xtz5tqi",
   "metadata": {
    "id": "-oGd0xtz5tqi"
   },
   "source": [
    "# Evaluate model"
   ]
  },
  {
   "cell_type": "code",
   "execution_count": null,
   "id": "dzZj3Lz14WvV",
   "metadata": {
    "colab": {
     "base_uri": "https://localhost:8080/",
     "height": 545
    },
    "executionInfo": {
     "elapsed": 10,
     "status": "ok",
     "timestamp": 1656674742412,
     "user": {
      "displayName": "yasaman haghbin",
      "userId": "12606726552507034462"
     },
     "user_tz": -270
    },
    "id": "dzZj3Lz14WvV",
    "outputId": "1deaad31-ea77-49ae-c34b-4cc23d6503d1"
   },
   "outputs": [
    {
     "data": {
      "image/png": "[encoded data removed]",
      "text/plain": [
       "<Figure size 432x288 with 1 Axes>"
      ]
     },
     "metadata": {
      "needs_background": "light"
     },
     "output_type": "display_data"
    },
    {
     "data": {
      "image/png": "[encoded data removed]",
      "text/plain": [
       "<Figure size 432x288 with 1 Axes>"
      ]
     },
     "metadata": {
      "needs_background": "light"
     },
     "output_type": "display_data"
    }
   ],
   "source": [
    "import matplotlib.pyplot as plt\n",
    "\n",
    "acc = history.history['accuracy']\n",
    "val_acc = history.history['val_accuracy']\n",
    "loss = history.history['loss']\n",
    "val_loss = history.history['val_loss']\n",
    "\n",
    "epochs = range(len(acc))\n",
    "\n",
    "plt.plot(epochs, acc, label='Training accuracy', color='r')\n",
    "plt.plot(epochs, val_acc, label='Validation accuracy', color='b')\n",
    "plt.title('Training and validation accuracy')\n",
    "plt.legend()\n",
    "\n",
    "plt.figure()\n",
    "\n",
    "plt.plot(epochs, loss, label='Training loss', color='r')\n",
    "plt.plot(epochs, val_loss, label='Validation loss', color='b')\n",
    "plt.title('Training and validation loss')\n",
    "plt.legend()\n",
    "\n",
    "plt.show()"
   ]
  }
 ],
 "metadata": {
  "accelerator": "GPU",
  "colab": {
   "collapsed_sections": [],
   "name": "VGG.ipynb",
   "provenance": []
  },
  "gpuClass": "standard",
  "kernelspec": {
   "display_name": "Python 3 (ipykernel)",
   "language": "python",
   "name": "python3"
  },
  "language_info": {
   "codemirror_mode": {
    "name": "ipython",
    "version": 3
   },
   "file_extension": ".py",
   "mimetype": "text/x-python",
   "name": "python",
   "nbconvert_exporter": "python",
   "pygments_lexer": "ipython3",
   "version": "3.8.6"
  }
 },
 "nbformat": 4,
 "nbformat_minor": 5
}
