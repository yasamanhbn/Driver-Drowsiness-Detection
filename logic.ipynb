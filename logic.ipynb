{
 "cells": [
  {
   "cell_type": "code",
   "execution_count": 1,
   "id": "6823a3d4",
   "metadata": {},
   "outputs": [
    {
     "name": "stdout",
     "output_type": "stream",
     "text": [
      "pygame 2.1.2 (SDL 2.0.18, Python 3.8.6)\n",
      "Hello from the pygame community. https://www.pygame.org/contribute.html\n"
     ]
    }
   ],
   "source": [
    "import cv2\n",
    "import os\n",
    "from tensorflow import keras\n",
    "from keras.models import load_model\n",
    "import numpy as np\n",
    "from pygame import mixer\n",
    "from playsound import playsound\n",
    "import time"
   ]
  },
  {
   "cell_type": "code",
   "execution_count": 2,
   "id": "18ff53fc",
   "metadata": {},
   "outputs": [],
   "source": [
    "model = load_model('../models/CNNBasic.h5')"
   ]
  },
  {
   "cell_type": "code",
   "execution_count": 3,
   "id": "7cb53b94",
   "metadata": {},
   "outputs": [],
   "source": [
    "faceCascade = cv2.CascadeClassifier(os.path.dirname(cv2.__file__) + \"/data/haarcascade_frontalface_default.xml\")\n",
    "eye_cascade_main = cv2.CascadeClassifier(os.path.dirname(cv2.__file__) + \"/data/haarcascade_eye.xml\")\n",
    "#eye_cascade = cv2.CascadeClassifier(os.path.dirname(cv2.__file__) + \"/data/haarcascade_eye_tree_eyeglasses.xml\")\n",
    "eye_cascade_backup = cv2.CascadeClassifier(os.path.dirname(cv2.__file__) + \"/data/haarcascade_righteye_2splits.xml\")\n",
    "\n",
    "img_size = 128"
   ]
  },
  {
   "cell_type": "code",
   "execution_count": 4,
   "id": "630cbe40",
   "metadata": {},
   "outputs": [],
   "source": [
    "def preprocessing(frame, gray, score):\n",
    "    eye_cascade = eye_cascade_main\n",
    "    \n",
    "    roi_gray = gray[y:y+h, x:x+w]\n",
    "    roi_color = frame[y:y+h, x:x+w]\n",
    "    eyes = eye_cascade.detectMultiScale(roi_gray, scaleFactor=1.2, minNeighbors=5)\n",
    "    \n",
    "    #change eye_cascade if couldn't detcet eye with current eye_cascade\n",
    "    if(len(eyes)==0):\n",
    "        eye_cascade = eye_cascade_backup\n",
    "        eyes = eye_cascade.detectMultiScale(roi_gray, scaleFactor=1.2, minNeighbors=5)\n",
    "        \n",
    "    for (ex,ey,ew,eh) in eyes: #green\n",
    "        eye = roi_color[ey:ey+eh, ex:ex+ew]\n",
    "        eye = cv2.resize(eye, (img_size, img_size))\n",
    "\n",
    "        cv2.rectangle(roi_color,(ex, ey),(ex+ew, ey+eh),(0,255,0), 2)\n",
    "        eye = np.expand_dims(eye, axis=0)\n",
    "        eye= eye / 255\n",
    "        \n",
    "        score = prediction(eye, score)\n",
    "        break\n",
    "        \n",
    "    return score"
   ]
  },
  {
   "cell_type": "code",
   "execution_count": 5,
   "id": "5ea13b9a",
   "metadata": {},
   "outputs": [],
   "source": [
    "def prediction(eye, score):\n",
    "    prediction = model.predict(eye)\n",
    "    if(prediction[0][0]> 0.5):\n",
    "        cv2.putText(frame, 'Open', (x, y-10), cv2.FONT_HERSHEY_SIMPLEX, 1.5, (0, 255, 0), 2)\n",
    "        return False\n",
    "    else:\n",
    "        cv2.putText(frame, 'Close', (x, y-10), cv2.FONT_HERSHEY_SIMPLEX, 1.5, (0, 0, 255), 2) \n",
    "        return True"
   ]
  },
  {
   "cell_type": "code",
   "execution_count": 6,
   "id": "9eb5658a",
   "metadata": {},
   "outputs": [
    {
     "name": "stdout",
     "output_type": "stream",
     "text": [
      "sleep\n",
      "sleep\n",
      "sleep\n",
      "sleep\n",
      "sleep\n"
     ]
    }
   ],
   "source": [
    "from datetime import datetime\n",
    "\n",
    "cap = cv2.VideoCapture(0)\n",
    "score = 0\n",
    "frame_rate = 10\n",
    "prev = datetime.now()\n",
    "\n",
    "while True:\n",
    "    cur_time = datetime.now()\n",
    "    ret, frame = cap.read()\n",
    "    time_elapsed = (cur_time - prev).total_seconds() * 1000\n",
    "    # add GaussianBlur to remove noises\n",
    "    frame = cv2.GaussianBlur(frame, (1, 1), 0)\n",
    "    height,width = frame.shape[:2] \n",
    "    gray = cv2.cvtColor(frame, cv2.COLOR_BGR2GRAY)\n",
    "    faces = faceCascade.detectMultiScale(gray, minNeighbors=5,scaleFactor=1.1)\n",
    "    cv2.rectangle(frame, (0,height-50) , (200,height) , (0,0,0) , thickness=cv2.FILLED )\n",
    "    \n",
    "    for (x,y,w,h) in faces:\n",
    "        cv2.rectangle(frame, (x,y), (x+w,y+h), (255,0,0), 2)\n",
    "        score = preprocessing(frame, gray, score)\n",
    "        if not score:\n",
    "            prev = datetime.now()\n",
    "        if time_elapsed > 650 and score:\n",
    "            print(\"sleep\")\n",
    "            prev = datetime.now()\n",
    "            score = False\n",
    "            playsound('./alarm.wav')\n",
    "        break\n",
    "        \n",
    "    cv2.imshow('h', frame)\n",
    "    \n",
    "    if cv2.waitKey(2) & 0xFF == ord('q'):\n",
    "        break\n",
    "        \n",
    "cap.release()\n",
    "cv2.destroyAllWindows()"
   ]
  },
  {
   "cell_type": "code",
   "execution_count": null,
   "id": "a7b99be7",
   "metadata": {},
   "outputs": [],
   "source": []
  }
 ],
 "metadata": {
  "kernelspec": {
   "display_name": "Python 3 (ipykernel)",
   "language": "python",
   "name": "python3"
  },
  "language_info": {
   "codemirror_mode": {
    "name": "ipython",
    "version": 3
   },
   "file_extension": ".py",
   "mimetype": "text/x-python",
   "name": "python",
   "nbconvert_exporter": "python",
   "pygments_lexer": "ipython3",
   "version": "3.8.6"
  }
 },
 "nbformat": 4,
 "nbformat_minor": 5
}
